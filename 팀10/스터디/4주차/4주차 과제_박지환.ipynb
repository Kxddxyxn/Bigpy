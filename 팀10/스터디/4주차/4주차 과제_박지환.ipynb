{
 "cells": [
  {
   "cell_type": "markdown",
   "metadata": {},
   "source": [
    "while문으로 Hello World를 10번 출력하시오.\n",
    "(조건문에는 숫자형 변수를 포함하시오)"
   ]
  },
  {
   "cell_type": "code",
   "execution_count": 1,
   "metadata": {},
   "outputs": [
    {
     "name": "stdout",
     "output_type": "stream",
     "text": [
      "Hello World\n",
      "Hello World\n",
      "Hello World\n",
      "Hello World\n",
      "Hello World\n",
      "Hello World\n",
      "Hello World\n",
      "Hello World\n",
      "Hello World\n",
      "Hello World\n"
     ]
    }
   ],
   "source": [
    "i = 0\n",
    "while i < 10:\n",
    "    print(\"Hello World\")\n",
    "    i += 1"
   ]
  },
  {
   "cell_type": "markdown",
   "metadata": {},
   "source": [
    "input()함수로 입력값을 받아 조건이 맞을 시 Hello World를 5번 출력하시오"
   ]
  },
  {
   "cell_type": "code",
   "execution_count": 2,
   "metadata": {},
   "outputs": [
    {
     "name": "stdout",
     "output_type": "stream",
     "text": [
      "5를 입력하세요: 5\n",
      "Hello World\n",
      "Hello World\n",
      "Hello World\n",
      "Hello World\n",
      "Hello World\n"
     ]
    }
   ],
   "source": [
    "a = input(\"5를 입력하세요: \")\n",
    "if a == \"5\":\n",
    "    for a in range(5):\n",
    "        print(\"Hello World\")"
   ]
  },
  {
   "cell_type": "markdown",
   "metadata": {},
   "source": [
    "while True:로 시작하는 반복문을 Hello World 출력을 5번 반복 후 루프에서 빠져나가도록 작성하시오."
   ]
  },
  {
   "cell_type": "code",
   "execution_count": 3,
   "metadata": {},
   "outputs": [
    {
     "name": "stdout",
     "output_type": "stream",
     "text": [
      "Hello World\n",
      "Hello World\n",
      "Hello World\n",
      "Hello World\n",
      "Hello World\n"
     ]
    }
   ],
   "source": [
    "count = 0\n",
    "while True:\n",
    "    print(\"Hello World\")\n",
    "    count += 1\n",
    "    if count == 5:\n",
    "        break"
   ]
  },
  {
   "cell_type": "markdown",
   "metadata": {},
   "source": [
    "while 반복문을 사용하여 1부터 10까지 숫자를 출력할 때 짝수는 출력하지 않고 시작점으로 돌아가도록 작성하시오."
   ]
  },
  {
   "cell_type": "code",
   "execution_count": 4,
   "metadata": {},
   "outputs": [
    {
     "name": "stdout",
     "output_type": "stream",
     "text": [
      "1\n",
      "3\n",
      "5\n",
      "7\n",
      "9\n"
     ]
    }
   ],
   "source": [
    "i = 1\n",
    "while i <= 10:\n",
    "    if i % 2 == 0:\n",
    "        i += 1\n",
    "        continue\n",
    "    print(i)\n",
    "    i += 1"
   ]
  },
  {
   "cell_type": "markdown",
   "metadata": {},
   "source": [
    "for 문을 이용하여 구구단 2단을 출력하시오"
   ]
  },
  {
   "cell_type": "code",
   "execution_count": 5,
   "metadata": {},
   "outputs": [
    {
     "name": "stdout",
     "output_type": "stream",
     "text": [
      "2 x 1 = 2\n",
      "2 x 2 = 4\n",
      "2 x 3 = 6\n",
      "2 x 4 = 8\n",
      "2 x 5 = 10\n",
      "2 x 6 = 12\n",
      "2 x 7 = 14\n",
      "2 x 8 = 16\n",
      "2 x 9 = 18\n"
     ]
    }
   ],
   "source": [
    "for i in range(1, 10):\n",
    "    print(f\"2 x {i} = {2 * i}\")"
   ]
  },
  {
   "cell_type": "markdown",
   "metadata": {},
   "source": [
    "for 문을 이용하여 ['바나나', '사과', '수박']리스트의 요소를 순서대로 하나씩 출력하시오."
   ]
  },
  {
   "cell_type": "code",
   "execution_count": 6,
   "metadata": {},
   "outputs": [
    {
     "name": "stdout",
     "output_type": "stream",
     "text": [
      "바나나\n",
      "사과\n",
      "수박\n"
     ]
    }
   ],
   "source": [
    "fruits = ['바나나', '사과', '수박']\n",
    "for fruit in fruits:\n",
    "    print(fruit)"
   ]
  },
  {
   "cell_type": "markdown",
   "metadata": {},
   "source": [
    "for문과 range 함수를 이용하여 -7에서 -3까지 출력하시오(range함수에는 음수가 들어가도록 하시오)"
   ]
  },
  {
   "cell_type": "code",
   "execution_count": 7,
   "metadata": {},
   "outputs": [
    {
     "name": "stdout",
     "output_type": "stream",
     "text": [
      "-7\n",
      "-6\n",
      "-5\n",
      "-4\n",
      "-3\n"
     ]
    }
   ],
   "source": [
    "for i in range(-7, -2):\n",
    "    print(i)"
   ]
  },
  {
   "cell_type": "markdown",
   "metadata": {},
   "source": [
    "for문과 range만을 이용하여 2부터 10까지 짝수만 출력하시오(반복문 내에서 연산 수행 x)"
   ]
  },
  {
   "cell_type": "code",
   "execution_count": 8,
   "metadata": {},
   "outputs": [
    {
     "name": "stdout",
     "output_type": "stream",
     "text": [
      "2\n",
      "4\n",
      "6\n",
      "8\n",
      "10\n"
     ]
    }
   ],
   "source": [
    "for i in range(2, 11, 2):\n",
    "    print(i)"
   ]
  },
  {
   "cell_type": "markdown",
   "metadata": {},
   "source": [
    "for문을 이용하여 Hello world 문자열을 한 글자씩 출력하시오"
   ]
  },
  {
   "cell_type": "code",
   "execution_count": 9,
   "metadata": {},
   "outputs": [
    {
     "name": "stdout",
     "output_type": "stream",
     "text": [
      "H\n",
      "e\n",
      "l\n",
      "l\n",
      "o\n",
      " \n",
      "w\n",
      "o\n",
      "r\n",
      "l\n",
      "d\n"
     ]
    }
   ],
   "source": [
    "for a in \"Hello world\":\n",
    "    print(a)"
   ]
  },
  {
   "cell_type": "markdown",
   "metadata": {},
   "source": [
    "본인의 이름을 입력받아 내 이름은 ㅇㅇㅇ입니다를 반환하는 함수를 만드시오"
   ]
  },
  {
   "cell_type": "code",
   "execution_count": 1,
   "metadata": {},
   "outputs": [
    {
     "name": "stdout",
     "output_type": "stream",
     "text": [
      "이름을 입력하세요: 박지환\n",
      "내 이름은 박지환입니다\n"
     ]
    }
   ],
   "source": [
    "name = input(\"이름을 입력하세요: \")\n",
    "print(f\"내 이름은 {name}입니다\")"
   ]
  },
  {
   "cell_type": "markdown",
   "metadata": {},
   "source": [
    "두 숫자를 입력하면 더하기 빼기 곱하기 나누기를 순서대로 출력하는 함수를 만드시오"
   ]
  },
  {
   "cell_type": "code",
   "execution_count": 2,
   "metadata": {},
   "outputs": [
    {
     "name": "stdout",
     "output_type": "stream",
     "text": [
      "첫 번째 숫자 입력: 10\n",
      "두 번째 숫자 입력: 4\n",
      "더하기: 14\n",
      "빼기: 6\n",
      "곱하기: 40\n",
      "나누기: 2.5\n"
     ]
    }
   ],
   "source": [
    "a = int(input(\"첫 번째 숫자 입력: \"))\n",
    "b = int(input(\"두 번째 숫자 입력: \"))\n",
    "\n",
    "print(\"더하기:\", a + b)\n",
    "print(\"빼기:\", a - b)\n",
    "print(\"곱하기:\", a * b)\n",
    "if b != 0:\n",
    "    print(\"나누기:\", a / b)\n",
    "else:\n",
    "    print(\"0으로 나눌 수 없습니다.\")"
   ]
  },
  {
   "cell_type": "markdown",
   "metadata": {},
   "source": [
    "입력의 수를 모르는 상태에서 입력을 모두 더하여 반환하는 함수를 만드시오"
   ]
  },
  {
   "cell_type": "code",
   "execution_count": 4,
   "metadata": {},
   "outputs": [
    {
     "name": "stdout",
     "output_type": "stream",
     "text": [
      "숫자를 쉼표로 구분해서 입력하세요12,4,52\n",
      "총합: 68\n"
     ]
    }
   ],
   "source": [
    "numbers = input(\"숫자를 쉼표로 구분해서 입력하세요\")\n",
    "nums = list(map(int, numbers.split(',')))\n",
    "print(\"총합:\", sum(nums))"
   ]
  },
  {
   "cell_type": "markdown",
   "metadata": {},
   "source": [
    "2개의 리스트를 입력받을 때 두 리스트의 길이가 같은지 불 자료형으로 반환하시오"
   ]
  },
  {
   "cell_type": "code",
   "execution_count": 7,
   "metadata": {},
   "outputs": [
    {
     "name": "stdout",
     "output_type": "stream",
     "text": [
      "첫 번째 리스트 입력13,2,43,43\n",
      "두 번째 리스트 입력2ㅁ\n",
      "두 리스트의 길이가 같은가요? False\n"
     ]
    }
   ],
   "source": [
    "list1 = input(\"첫 번째 리스트 입력\").split(',')\n",
    "list2 = input(\"두 번째 리스트 입력\").split(',')\n",
    "\n",
    "print(\"두 리스트의 길이가 같은가요?\", len(list1) == len(list2))"
   ]
  },
  {
   "cell_type": "markdown",
   "metadata": {},
   "source": [
    "두개의 리스트를 입력받고 위에서 만든 함수를 이용해 두 리스트의 길이가 같다고 판별되면 두 리스트를 이용하여 딕셔너리를 만들어 반환하는 함수를 만드시오"
   ]
  },
  {
   "cell_type": "code",
   "execution_count": 8,
   "metadata": {},
   "outputs": [
    {
     "name": "stdout",
     "output_type": "stream",
     "text": [
      "첫 번째 리스트 입력12,2\n",
      "두 번째 리스트 입력a,h\n",
      "딕셔너리 결과: {'12': 'a', '2': 'h'}\n"
     ]
    }
   ],
   "source": [
    "list1 = input(\"첫 번째 리스트 입력\").split(',')\n",
    "list2 = input(\"두 번째 리스트 입력\").split(',')\n",
    "\n",
    "if len(list1) == len(list2):\n",
    "    result = dict(zip(list1, list2))\n",
    "    print(\"딕셔너리 결과:\", result)\n",
    "else:\n",
    "    print(\"리스트 길이가 달라 딕셔너리 생성 불가\")"
   ]
  },
  {
   "cell_type": "markdown",
   "metadata": {},
   "source": [
    "글로벌 변수를 이용하여 plus() 함수가 수행될 때마다 변수에 5가 더해지도록 함수를 정의하시오"
   ]
  },
  {
   "cell_type": "code",
   "execution_count": 13,
   "metadata": {},
   "outputs": [
    {
     "name": "stdout",
     "output_type": "stream",
     "text": [
      "5\n",
      "10\n"
     ]
    }
   ],
   "source": [
    "count = 0  # 글로벌 변수 선언\n",
    "\n",
    "def plus():\n",
    "    global count  # 함수 안에서 글로벌 변수 사용 선언\n",
    "    count += 5\n",
    "    print(count)\n",
    "plus()\n",
    "plus()"
   ]
  },
  {
   "cell_type": "code",
   "execution_count": 11,
   "metadata": {},
   "outputs": [],
   "source": []
  },
  {
   "cell_type": "code",
   "execution_count": null,
   "metadata": {},
   "outputs": [],
   "source": []
  }
 ],
 "metadata": {
  "kernelspec": {
   "display_name": "Python 3 (ipykernel)",
   "language": "python",
   "name": "python3"
  },
  "language_info": {
   "codemirror_mode": {
    "name": "ipython",
    "version": 3
   },
   "file_extension": ".py",
   "mimetype": "text/x-python",
   "name": "python",
   "nbconvert_exporter": "python",
   "pygments_lexer": "ipython3",
   "version": "3.9.18"
  }
 },
 "nbformat": 4,
 "nbformat_minor": 2
}

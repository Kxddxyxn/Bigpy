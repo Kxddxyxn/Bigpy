{
 "cells": [
  {
   "cell_type": "code",
   "execution_count": 47,
   "id": "99319a55-45ba-4f9d-9854-c0d633dd3895",
   "metadata": {},
   "outputs": [
    {
     "name": "stdin",
     "output_type": "stream",
     "text": [
      "학점 정보를 입력하세요: ObjectOrientedProgramming1 3.0 A+ IntroductiontoComputerEngineering 3.0 A+ ObjectOrientedProgramming2 3.0 A0 CreativeComputerEngineeringDesign 3.0 A+ AssemblyLanguage 3.0 A+ InternetProgramming 3.0 B0 ApplicationProgramminginJava 3.0 A0 SystemProgramming 3.0 B0 OperatingSystem 3.0 B0 WirelessCommunicationsandNetworking 3.0 C+ LogicCircuits 3.0 B0 DataStructure 4.0 A+ MicroprocessorApplication 3.0 B+ EmbeddedSoftware 3.0 C0 ComputerSecurity 3.0 D+ Database 3.0 C+ Algorithm 3.0 B0 CapstoneDesigninCSE 3.0 B+ CompilerDesign 3.0 D0 ProblemSolving 4.0 P\n"
     ]
    }
   ],
   "source": [
    "score=input(\"학점 정보를 입력하세요:\")\n",
    "\n",
    "a=score.split(' ')\n",
    "# score_hack=a\n",
    "\n",
    "\n",
    "score_hack=[]\n",
    "score_dd=[]\n",
    "for i in range(len(a)):\n",
    "    if i%3==1 :\n",
    "        score_hack.append(a[i])\n",
    "        \n",
    "for k in range(len(a)):\n",
    "    if k%3==2 :\n",
    "        score_dd.append(a[k])\n",
    "\n"
   ]
  },
  {
   "cell_type": "code",
   "execution_count": 119,
   "id": "7e211f1b-849b-4007-9871-1b575183d428",
   "metadata": {},
   "outputs": [],
   "source": [
    "dic={\"A+\" : 4.5, \"A0\":4.0, \"B+\": 3.5, \"B0\" : 3.0, \"C+\" :2.5, \"C0\":2.0, \"D+\":1.5, \"D0\":1.0, \"F\":0, \"P\":0}\n",
    "score=[]\n",
    "for i in score_dd:\n",
    "    score.append(dic[i])\n"
   ]
  },
  {
   "cell_type": "code",
   "execution_count": 133,
   "id": "a935b42c-3d97-4c46-901d-d2baf1d9f555",
   "metadata": {},
   "outputs": [],
   "source": [
    "score_hack=list(map(float, score_hack))"
   ]
  },
  {
   "cell_type": "code",
   "execution_count": null,
   "id": "b0908d64-8120-43f0-aad3-99d57af69480",
   "metadata": {},
   "outputs": [],
   "source": []
  },
  {
   "cell_type": "code",
   "execution_count": 146,
   "id": "a28fc1f4-c504-4bc9-b0eb-711564f782ac",
   "metadata": {},
   "outputs": [
    {
     "data": {
      "text/plain": [
       "3.0725806451612905"
      ]
     },
     "execution_count": 146,
     "metadata": {},
     "output_type": "execute_result"
    }
   ],
   "source": [
    "final=[]\n",
    "for i in range(len(score)):\n",
    "    final.append(score_hack[i]*score[i])\n",
    "\n",
    "final_score=sum(final)/sum(score_hack)\n",
    "final_score"
   ]
  },
  {
   "cell_type": "code",
   "execution_count": null,
   "id": "4386c232-d39c-4eb5-84cd-e6df4c1c0318",
   "metadata": {},
   "outputs": [],
   "source": []
  }
 ],
 "metadata": {
  "kernelspec": {
   "display_name": "geeclass",
   "language": "python",
   "name": "gee"
  },
  "language_info": {
   "codemirror_mode": {
    "name": "ipython",
    "version": 3
   },
   "file_extension": ".py",
   "mimetype": "text/x-python",
   "name": "python",
   "nbconvert_exporter": "python",
   "pygments_lexer": "ipython3",
   "version": "3.12.2"
  }
 },
 "nbformat": 4,
 "nbformat_minor": 5
}

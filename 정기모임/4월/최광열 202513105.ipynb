{
  "nbformat": 4,
  "nbformat_minor": 0,
  "metadata": {
    "colab": {
      "provenance": []
    },
    "kernelspec": {
      "name": "python3",
      "display_name": "Python 3"
    },
    "language_info": {
      "name": "python"
    }
  },
  "cells": [
    {
      "cell_type": "code",
      "execution_count": null,
      "metadata": {
        "id": "ZPdOLakVqDrQ"
      },
      "outputs": [],
      "source": [
        "year=int(input())\n",
        "year-=543\n",
        "if 1000<year<3000:\n",
        "  print(year)\n",
        "else:\n",
        "  print(\"값이 올바르지 않습니다!\")"
      ]
    }
  ]
}
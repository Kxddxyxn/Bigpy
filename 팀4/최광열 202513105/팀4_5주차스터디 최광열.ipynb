{
  "cells": [
    {
      "cell_type": "markdown",
      "metadata": {
        "id": "HIwJVhAIahjb"
      },
      "source": [
        "사용자에게 이름을 입력받고, \"안녕하세요, OOO님!\" 형식으로 출력하는 프로그램을 작성하시오."
      ]
    },
    {
      "cell_type": "code",
      "execution_count": null,
      "metadata": {
        "id": "yTW1hncaahH_",
        "colab": {
          "base_uri": "https://localhost:8080/"
        },
        "outputId": "2d00be43-dcf3-4682-fa82-bbebd695b59a"
      },
      "outputs": [
        {
          "output_type": "stream",
          "name": "stdout",
          "text": [
            "최광열\n",
            "안녕하세요, 최광열님!\n"
          ]
        }
      ],
      "source": [
        "a=input()\n",
        "print(\"안녕하세요, %s님!\" % a)"
      ]
    },
    {
      "cell_type": "markdown",
      "metadata": {
        "id": "fHUlrcm1arDs"
      },
      "source": [
        "사용자로부터 3줄의 문장을 입력받아 note.txt에 저장하는 프로그램을 작성하시오.\n",
        "입력은 input()으로 받고, 입력이 끝나면 \"파일 저장 완료!\"를 출력하시오."
      ]
    },
    {
      "cell_type": "markdown",
      "metadata": {
        "id": "JQSg97M7armu"
      },
      "source": [
        "예시문장:\n",
        " ①빅파이 최고!\n",
        "  ②5월 13일은 정기모임의 날이다.\n",
        "   ③ 빅파이 부회장 멋있다."
      ]
    },
    {
      "cell_type": "code",
      "execution_count": null,
      "metadata": {
        "id": "4n_OC8w5bq22",
        "colab": {
          "base_uri": "https://localhost:8080/"
        },
        "outputId": "2edf57a8-7b46-44df-a314-440da1e0c6da"
      },
      "outputs": [
        {
          "output_type": "stream",
          "name": "stdout",
          "text": [
            "빅파이 최고!\n",
            "5월 13일은 정기모임의 날이다.\n",
            "빅파이 부회장 멋있다.\n",
            "파일 저장 완료!\n"
          ]
        }
      ],
      "source": [
        "f=open(\"note.txt\", \"w\")\n",
        "a=input()\n",
        "b=input()\n",
        "c=input()\n",
        "f.write(a+ \"\\n\")\n",
        "f.write(b+ \"\\n\")\n",
        "f.write(c+ \"\\n\")\n",
        "f.close()\n",
        "print(\"파일 저장 완료!\")"
      ]
    },
    {
      "cell_type": "markdown",
      "metadata": {
        "id": "UEySpnAOau8e"
      },
      "source": [
        "note.txt 파일을 읽고, 각 줄 앞에 줄 번호를 붙여 출력하시오."
      ]
    },
    {
      "cell_type": "code",
      "execution_count": null,
      "metadata": {
        "id": "Y8KU5GRqbrg-",
        "colab": {
          "base_uri": "https://localhost:8080/"
        },
        "outputId": "eb2e0b2f-4679-4135-da61-0f556fb75a00"
      },
      "outputs": [
        {
          "output_type": "stream",
          "name": "stdout",
          "text": [
            "1: 빅파이 최고!\n",
            "2: 5월 13일은 정기모임의 날이다.\n",
            "3: 빅파이 부회장 멋있다.\n"
          ]
        }
      ],
      "source": [
        "with open(\"note.txt\", \"r\") as f:\n",
        "    line_number = 1\n",
        "    for line in f:\n",
        "        print(f\"{line_number}: {line.strip()}\")\n",
        "        line_number += 1"
      ]
    },
    {
      "cell_type": "markdown",
      "metadata": {
        "id": "W9AcafI8au6i"
      },
      "source": [
        "명령행으로 입력한 인수를 한 줄씩 출력하시오."
      ]
    },
    {
      "cell_type": "markdown",
      "metadata": {
        "id": "tS5mCUWaau1r"
      },
      "source": [
        "인수: 2025, 05, 13"
      ]
    },
    {
      "cell_type": "code",
      "source": [
        "code = \"\"\"\n",
        "import sys\n",
        "\n",
        "for arg in sys.argv[1:]:\n",
        "    print(arg)\n",
        "\"\"\"\n",
        "\n",
        "with open(\"example.py\", \"w\") as f:\n",
        "    f.write(code)\n",
        "\n",
        "!python3 example.py 2025 05 13"
      ],
      "metadata": {
        "colab": {
          "base_uri": "https://localhost:8080/"
        },
        "id": "AVNLaFaaR-5j",
        "outputId": "2c7f98ca-8d71-434d-b388-0555c7660567"
      },
      "execution_count": null,
      "outputs": [
        {
          "output_type": "stream",
          "name": "stdout",
          "text": [
            "2025\n",
            "05\n",
            "13\n"
          ]
        }
      ]
    },
    {
      "cell_type": "markdown",
      "metadata": {
        "id": "Ks-1NM6eauwC"
      },
      "source": [
        "명령행 인수로 전달된 정수들을 더해 합계를 출력하시오\n"
      ]
    },
    {
      "cell_type": "code",
      "execution_count": null,
      "metadata": {
        "id": "wsvQ-EDbbuWK",
        "colab": {
          "base_uri": "https://localhost:8080/"
        },
        "outputId": "c4b10181-a3eb-408e-d4da-8206835c3842"
      },
      "outputs": [
        {
          "output_type": "stream",
          "name": "stdout",
          "text": [
            "2043\n"
          ]
        }
      ],
      "source": [
        "!python3 doit/example.py 2025 5 13"
      ]
    },
    {
      "cell_type": "markdown",
      "metadata": {
        "id": "yU8YfCHwaun0"
      },
      "source": [
        "Student 클래스를 정의하고 이름, 학번을 속성으로 저장하며 show_info() 메서드로 출력하시오. (본인이름 과 학번)"
      ]
    },
    {
      "cell_type": "code",
      "execution_count": null,
      "metadata": {
        "id": "NgMsmjeNbuz6",
        "colab": {
          "base_uri": "https://localhost:8080/"
        },
        "outputId": "51d89c53-c07e-4942-c534-8a66a8e28cb0"
      },
      "outputs": [
        {
          "output_type": "stream",
          "name": "stdout",
          "text": [
            "이름: 최광열\n",
            "학번: 202513105\n"
          ]
        }
      ],
      "source": [
        "class Student:\n",
        "    def __init__(self, name, student_id):\n",
        "        self.name = name\n",
        "        self.student_id = student_id\n",
        "\n",
        "    def show_info(self):\n",
        "        print(f\"이름: {self.name}\")\n",
        "        print(f\"학번: {self.student_id}\")\n",
        "\n",
        "\n",
        "student1 = Student(\"최광열\", \"202513105\")\n",
        "student1.show_info()\n"
      ]
    },
    {
      "cell_type": "markdown",
      "metadata": {
        "id": "mVsVTyZLaujA"
      },
      "source": [
        "Student 클래스를 상속하는 StudentScore 클래스를 정의하고, 점수에 따라 학점을 계산하시오. (90점 이상 A, 80 ~ 89점 B, 70 ~ 79점\n",
        "  C, 그 외 F)"
      ]
    },
    {
      "cell_type": "code",
      "execution_count": 9,
      "metadata": {
        "id": "jyiG6JzXbves",
        "colab": {
          "base_uri": "https://localhost:8080/"
        },
        "outputId": "c25fe55e-c7f5-4b59-9ef7-a04e23d48ff0"
      },
      "outputs": [
        {
          "output_type": "stream",
          "name": "stdout",
          "text": [
            "57\n",
            "이름: 최광열\n",
            "학번: 202513105\n",
            "점수: 57\n",
            "학점: F에요 ㅠㅠ\n"
          ]
        }
      ],
      "source": [
        "class Student:\n",
        "    def __init__(self, name, student_id):\n",
        "        self.name = name\n",
        "        self.student_id = student_id\n",
        "\n",
        "    def show_info(self):\n",
        "        print(f\"이름: {self.name}\")\n",
        "        print(f\"학번: {self.student_id}\")\n",
        "\n",
        "class StudentScore(Student):\n",
        "    def __init__(self, name, student_id, score):\n",
        "        super().__init__(name, student_id)\n",
        "        self.score = score\n",
        "\n",
        "    def get_grade(self):\n",
        "        if self.score >= 90:\n",
        "            return \"A\"\n",
        "        elif self.score >= 80:\n",
        "            return \"B\"\n",
        "        elif self.score >= 70:\n",
        "            return \"C\"\n",
        "        else:\n",
        "            return \"F에요 ㅠㅠ\"\n",
        "\n",
        "    def show_info(self):\n",
        "        super().show_info()\n",
        "        print(f\"점수: {self.score}\")\n",
        "        print(f\"학점: {self.get_grade()}\")\n",
        "\n",
        "a= int(input())\n",
        "student2 = StudentScore(\"최광열\", \"202513105\", a)\n",
        "student2.show_info()"
      ]
    }
  ],
  "metadata": {
    "colab": {
      "provenance": []
    },
    "kernelspec": {
      "display_name": "Python 3",
      "name": "python3"
    },
    "language_info": {
      "name": "python"
    }
  },
  "nbformat": 4,
  "nbformat_minor": 0
}
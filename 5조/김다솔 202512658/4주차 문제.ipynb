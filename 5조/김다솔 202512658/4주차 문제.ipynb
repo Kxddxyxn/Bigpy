{
 "cells": [
  {
   "cell_type": "markdown",
   "metadata": {},
   "source": [
    "while문으로 Hello World를 10번 출력하시오.\n",
    "(조건문에는 숫자형 변수를 포함하시오)"
   ]
  },
  {
   "cell_type": "code",
   "execution_count": 3,
   "metadata": {},
   "outputs": [
    {
     "name": "stdout",
     "output_type": "stream",
     "text": [
      "Hello World\n",
      "Hello World\n",
      "Hello World\n",
      "Hello World\n",
      "Hello World\n",
      "Hello World\n",
      "Hello World\n",
      "Hello World\n",
      "Hello World\n",
      "Hello World\n"
     ]
    }
   ],
   "source": [
    "for i in range(0,10):\n",
    "    print('Hello World')    "
   ]
  },
  {
   "cell_type": "markdown",
   "metadata": {},
   "source": [
    "input()함수로 입력값을 받아 조건이 맞을 시 Hello World를 5번 출력하시오"
   ]
  },
  {
   "cell_type": "code",
   "execution_count": 4,
   "metadata": {},
   "outputs": [
    {
     "name": "stdout",
     "output_type": "stream",
     "text": [
      "hello world\n",
      "hello world\n",
      "hello world\n",
      "hello world\n",
      "hello world\n"
     ]
    }
   ],
   "source": [
    "condition=int(input())\n",
    "if condition==6:\n",
    "    for i in range(0,5):\n",
    "        print('hello world')"
   ]
  },
  {
   "cell_type": "markdown",
   "metadata": {},
   "source": [
    "while True:로 시작하는 반복문을 Hello World 출력을 5번 반복 후 루프에서 빠져나가도록 작성하시오."
   ]
  },
  {
   "cell_type": "code",
   "execution_count": 5,
   "metadata": {},
   "outputs": [
    {
     "name": "stdout",
     "output_type": "stream",
     "text": [
      "hello world\n",
      "hello world\n",
      "hello world\n",
      "hello world\n",
      "hello world\n"
     ]
    }
   ],
   "source": [
    "a=0\n",
    "while 1:\n",
    "    a+=1\n",
    "    print('hello world')\n",
    "    if a==5:\n",
    "        break"
   ]
  },
  {
   "cell_type": "markdown",
   "metadata": {},
   "source": [
    "while 반복문을 사용하여 1부터 10까지 숫자를 출력할 때 짝수는 출력하지 않고 시작점으로 돌아가도록 작성하시오."
   ]
  },
  {
   "cell_type": "code",
   "execution_count": 6,
   "metadata": {},
   "outputs": [
    {
     "name": "stdout",
     "output_type": "stream",
     "text": [
      "1\n",
      "3\n",
      "5\n",
      "7\n",
      "9\n"
     ]
    }
   ],
   "source": [
    "a=1\n",
    "while a<=9:\n",
    "    print(a)\n",
    "    a+=2"
   ]
  },
  {
   "cell_type": "markdown",
   "metadata": {},
   "source": [
    "for 문을 이용하여 구구단 2단을 출력하시오"
   ]
  },
  {
   "cell_type": "code",
   "execution_count": 7,
   "metadata": {},
   "outputs": [
    {
     "name": "stdout",
     "output_type": "stream",
     "text": [
      "2 4 6 8 10 12 14 16 18 "
     ]
    }
   ],
   "source": [
    "i=2\n",
    "for j in range(1,10):\n",
    "        print(i*j,end=\" \")\n",
    "    "
   ]
  },
  {
   "cell_type": "markdown",
   "metadata": {},
   "source": [
    "for 문을 이용하여 ['바나나', '사과', '수박']리스트의 요소를 순서대로 하나씩 출력하시오."
   ]
  },
  {
   "cell_type": "code",
   "execution_count": 8,
   "metadata": {},
   "outputs": [
    {
     "name": "stdout",
     "output_type": "stream",
     "text": [
      "바나나\n",
      "사과\n",
      "수박\n"
     ]
    }
   ],
   "source": [
    "fruit=['바나나','사과','수박']\n",
    "for i in range(0,3):\n",
    "    print(fruit[i])"
   ]
  },
  {
   "cell_type": "markdown",
   "metadata": {},
   "source": [
    "for문과 range 함수를 이용하여 -7에서 -3까지 출력하시오(range함수에는 음수가 들어가도록 하시오)"
   ]
  },
  {
   "cell_type": "code",
   "execution_count": 9,
   "metadata": {},
   "outputs": [
    {
     "name": "stdout",
     "output_type": "stream",
     "text": [
      "-7\n",
      "-6\n",
      "-5\n",
      "-4\n",
      "-3\n"
     ]
    }
   ],
   "source": [
    "for i in range(-7,-2):\n",
    "    print(i)"
   ]
  },
  {
   "cell_type": "markdown",
   "metadata": {},
   "source": [
    "for문과 range만을 이용하여 2부터 10까지 짝수만 출력하시오(반복문 내에서 연산 수행 x)"
   ]
  },
  {
   "cell_type": "code",
   "execution_count": 10,
   "metadata": {},
   "outputs": [
    {
     "name": "stdout",
     "output_type": "stream",
     "text": [
      "2\n",
      "4\n",
      "6\n",
      "8\n",
      "10\n"
     ]
    }
   ],
   "source": [
    "for i in range(2,11,2):\n",
    "    print(i)"
   ]
  },
  {
   "cell_type": "markdown",
   "metadata": {},
   "source": [
    "for문을 이용하여 Hello world 문자열을 한 글자씩 출력하시오"
   ]
  },
  {
   "cell_type": "code",
   "execution_count": 11,
   "metadata": {},
   "outputs": [
    {
     "name": "stdout",
     "output_type": "stream",
     "text": [
      "h\n",
      "e\n",
      "l\n",
      "l\n",
      "o\n",
      " \n",
      "w\n",
      "o\n",
      "r\n",
      "l\n",
      "d\n"
     ]
    }
   ],
   "source": [
    "hi='hello world'\n",
    "for i in range(0,11,1):\n",
    "    print(hi[i])\n"
   ]
  },
  {
   "cell_type": "markdown",
   "metadata": {},
   "source": [
    "본인의 이름을 입력받아 내 이름은 ㅇㅇㅇ입니다를 반환하는 함수를 만드시오"
   ]
  },
  {
   "cell_type": "code",
   "execution_count": 12,
   "metadata": {},
   "outputs": [
    {
     "name": "stdout",
     "output_type": "stream",
     "text": [
      "내 이름은 링쟈오밍입니다.\n"
     ]
    }
   ],
   "source": [
    "\n",
    "def 자기소개():\n",
    "    name=str(input('이름을 입력하시오:'))\n",
    "    print('내 이름은',name+'입니다.')\n",
    "자기소개()"
   ]
  },
  {
   "cell_type": "markdown",
   "metadata": {},
   "source": [
    "두 숫자를 입력하면 더하기 빼기 곱하기 나누기를 순서대로 출력하는 함수를 만드시오"
   ]
  },
  {
   "cell_type": "code",
   "execution_count": 13,
   "metadata": {},
   "outputs": [
    {
     "data": {
      "text/plain": [
       "(12, 8, 20, 5.0)"
      ]
     },
     "execution_count": 13,
     "metadata": {},
     "output_type": "execute_result"
    }
   ],
   "source": [
    "def four_basic_operation(a,b):\n",
    "    sum=a+b\n",
    "    min=a-b\n",
    "    mul=a*b\n",
    "    sli=a/b\n",
    "    return sum, min, mul, sli\n",
    "four_basic_operation(10,2)"
   ]
  },
  {
   "cell_type": "markdown",
   "metadata": {},
   "source": [
    "입력의 수를 모르는 상태에서 입력을 모두 더하여 반환하는 함수를 만드시오"
   ]
  },
  {
   "cell_type": "code",
   "execution_count": 14,
   "metadata": {},
   "outputs": [
    {
     "data": {
      "text/plain": [
       "18"
      ]
     },
     "execution_count": 14,
     "metadata": {},
     "output_type": "execute_result"
    }
   ],
   "source": [
    "def sum(*집가자):\n",
    "    result=0\n",
    "    for i in 집가자:\n",
    "        result+=i\n",
    "    return result\n",
    "sum(3,6,9)"
   ]
  },
  {
   "cell_type": "markdown",
   "metadata": {},
   "source": [
    "2개의 리스트를 입력받을 때 두 리스트의 길이가 같은지 불 자료형으로 반환하시오"
   ]
  },
  {
   "cell_type": "code",
   "execution_count": 15,
   "metadata": {},
   "outputs": [
    {
     "name": "stdout",
     "output_type": "stream",
     "text": [
      "True\n"
     ]
    }
   ],
   "source": [
    "def dic_dis():                                         #이 함수가 하는일 두개 딕셔너리 받기,두 딕셔너리의 길이 측정정\n",
    "    global dic1, dic2, a                                \n",
    "    dic1=list(map(str,input().split()))\n",
    "    dic2=list(map(str,input().split()))\n",
    "    a=len(dic1)==len(dic2)\n",
    "    a=str(a)\n",
    "    print(a)\n",
    "dic_dis()\n"
   ]
  },
  {
   "cell_type": "markdown",
   "metadata": {},
   "source": [
    "두개의 리스트를 입력받고 위에서 만든 함수를 이용해 두 리스트의 길이가 같다고 판별되면 두 리스트를 이용하여 딕셔너리를 만들어 반환하는 함수를 만드시오"
   ]
  },
  {
   "cell_type": "code",
   "execution_count": 18,
   "metadata": {},
   "outputs": [
    {
     "name": "stdout",
     "output_type": "stream",
     "text": [
      "True\n"
     ]
    },
    {
     "data": {
      "text/plain": [
       "{'이름': '김다솔', '학교': '부경대', '지역': '울산', '나이': '20', '소원': '집가고싶다'}"
      ]
     },
     "execution_count": 18,
     "metadata": {},
     "output_type": "execute_result"
    }
   ],
   "source": [
    "def make_dic():\n",
    "    dic_dis()\n",
    "    if a=='True':\n",
    "        comb_dic={}\n",
    "        for i in range(len(dic1)):\n",
    "            comb_dic[dic1[i]]=dic2[i]\n",
    "        return comb_dic\n",
    "    else:\n",
    "        return\n",
    "        \n",
    "make_dic()"
   ]
  },
  {
   "cell_type": "markdown",
   "metadata": {},
   "source": [
    "글로벌 변수를 이용하여 plus() 함수가 수행될 때마다 변수에 5가 더해지도록 함수를 정의하시오"
   ]
  },
  {
   "cell_type": "code",
   "execution_count": 17,
   "metadata": {},
   "outputs": [
    {
     "name": "stdout",
     "output_type": "stream",
     "text": [
      "15\n"
     ]
    }
   ],
   "source": [
    "a=0\n",
    "def plus():\n",
    "    global a\n",
    "    a+=5\n",
    "plus()\n",
    "plus()\n",
    "plus()\n",
    "print(a)\n",
    "\n",
    "    \n",
    "    "
   ]
  }
 ],
 "metadata": {
  "kernelspec": {
   "display_name": "Python 3",
   "language": "python",
   "name": "python3"
  },
  "language_info": {
   "codemirror_mode": {
    "name": "ipython",
    "version": 3
   },
   "file_extension": ".py",
   "mimetype": "text/x-python",
   "name": "python",
   "nbconvert_exporter": "python",
   "pygments_lexer": "ipython3",
   "version": "3.13.2"
  }
 },
 "nbformat": 4,
 "nbformat_minor": 2
}

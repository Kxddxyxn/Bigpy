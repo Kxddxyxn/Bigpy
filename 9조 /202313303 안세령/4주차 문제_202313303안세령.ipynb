{
 "cells": [
  {
   "cell_type": "markdown",
   "metadata": {},
   "source": [
    "while문으로 Hello World를 10번 출력하시오.\n",
    "(조건문에는 숫자형 변수를 포함하시오)"
   ]
  },
  {
   "cell_type": "code",
   "execution_count": 1,
   "metadata": {},
   "outputs": [
    {
     "name": "stdout",
     "output_type": "stream",
     "text": [
      "Hello World\n",
      "Hello World\n",
      "Hello World\n",
      "Hello World\n",
      "Hello World\n",
      "Hello World\n",
      "Hello World\n",
      "Hello World\n",
      "Hello World\n",
      "Hello World\n"
     ]
    }
   ],
   "source": [
    "i = 0\n",
    "while i <10 :\n",
    "    print('Hello World')\n",
    "    i += 1"
   ]
  },
  {
   "cell_type": "markdown",
   "metadata": {},
   "source": [
    "input()함수로 입력값을 받아 조건이 맞을 시 Hello World를 5번 출력하시오"
   ]
  },
  {
   "cell_type": "code",
   "execution_count": 3,
   "metadata": {},
   "outputs": [
    {
     "name": "stdin",
     "output_type": "stream",
     "text": [
      "입력값:  안녕\n"
     ]
    },
    {
     "name": "stdout",
     "output_type": "stream",
     "text": [
      "Hello World \n",
      "Hello World \n",
      "Hello World \n",
      "Hello World \n",
      "Hello World \n",
      "\n"
     ]
    }
   ],
   "source": [
    "word = input('입력값: ')\n",
    "if word == '안녕':\n",
    "    print('Hello World \\n'*5)"
   ]
  },
  {
   "cell_type": "markdown",
   "metadata": {},
   "source": [
    "while True:로 시작하는 반복문을 Hello World 출력을 5번 반복 후 루프에서 빠져나가도록 작성하시오."
   ]
  },
  {
   "cell_type": "code",
   "execution_count": 4,
   "metadata": {},
   "outputs": [
    {
     "name": "stdout",
     "output_type": "stream",
     "text": [
      "Hello World\n",
      "Hello World\n",
      "Hello World\n",
      "Hello World\n",
      "Hello World\n"
     ]
    }
   ],
   "source": [
    "i = 0\n",
    "while True:\n",
    "    print('Hello World')\n",
    "    i+=1\n",
    "    if i>=5:\n",
    "        break\n",
    "    "
   ]
  },
  {
   "cell_type": "markdown",
   "metadata": {},
   "source": [
    "while 반복문을 사용하여 1부터 10까지 숫자를 출력할 때 짝수는 출력하지 않고 시작점으로 돌아가도록 작성하시오."
   ]
  },
  {
   "cell_type": "code",
   "execution_count": null,
   "metadata": {},
   "outputs": [],
   "source": [
    "#while True:\n",
    "    x = 1\n",
    "    while x <= 10:\n",
    "        if x % 2 == 0:\n",
    "            pass\n",
    "        else:\n",
    "            print(x)\n",
    "        x+=1\n",
    "            "
   ]
  },
  {
   "cell_type": "markdown",
   "metadata": {},
   "source": [
    "for 문을 이용하여 구구단 2단을 출력하시오"
   ]
  },
  {
   "cell_type": "code",
   "execution_count": 10,
   "metadata": {},
   "outputs": [
    {
     "name": "stdout",
     "output_type": "stream",
     "text": [
      "2*1=2\n",
      "2*2=4\n",
      "2*3=6\n",
      "2*4=8\n",
      "2*5=10\n",
      "2*6=12\n",
      "2*7=14\n",
      "2*8=16\n",
      "2*9=18\n"
     ]
    }
   ],
   "source": [
    "for i in range(1,10):\n",
    "    print(f'2*{i}={2*i}')\n",
    "    "
   ]
  },
  {
   "cell_type": "markdown",
   "metadata": {},
   "source": [
    "for 문을 이용하여 ['바나나', '사과', '수박']리스트의 요소를 순서대로 하나씩 출력하시오."
   ]
  },
  {
   "cell_type": "code",
   "execution_count": 8,
   "metadata": {},
   "outputs": [
    {
     "name": "stdout",
     "output_type": "stream",
     "text": [
      "바나나\n",
      "사과\n",
      "수박\n"
     ]
    }
   ],
   "source": [
    "list1 = ['바나나','사과','수박']\n",
    "for i in list1:\n",
    "    print(i)"
   ]
  },
  {
   "cell_type": "markdown",
   "metadata": {},
   "source": [
    "for문과 range 함수를 이용하여 -7에서 -3까지 출력하시오(range함수에는 음수가 들어가도록 하시오)"
   ]
  },
  {
   "cell_type": "code",
   "execution_count": 11,
   "metadata": {},
   "outputs": [
    {
     "name": "stdout",
     "output_type": "stream",
     "text": [
      "-7\n",
      "-6\n",
      "-5\n",
      "-4\n",
      "-3\n"
     ]
    }
   ],
   "source": [
    "for i in range(-7,-2):\n",
    "    print(i)"
   ]
  },
  {
   "cell_type": "markdown",
   "metadata": {},
   "source": [
    "for문과 range만을 이용하여 2부터 10까지 짝수만 출력하시오(반복문 내에서 연산 수행 x)"
   ]
  },
  {
   "cell_type": "code",
   "execution_count": 12,
   "metadata": {},
   "outputs": [
    {
     "name": "stdout",
     "output_type": "stream",
     "text": [
      "2\n",
      "4\n",
      "6\n",
      "8\n",
      "10\n"
     ]
    }
   ],
   "source": [
    "for i in range(2,11,2):\n",
    "    print(i)"
   ]
  },
  {
   "cell_type": "markdown",
   "metadata": {},
   "source": [
    "for문을 이용하여 Hello world 문자열을 한 글자씩 출력하시오"
   ]
  },
  {
   "cell_type": "code",
   "execution_count": 13,
   "metadata": {},
   "outputs": [
    {
     "name": "stdout",
     "output_type": "stream",
     "text": [
      "H\n",
      "e\n",
      "l\n",
      "l\n",
      "o\n",
      " \n",
      "W\n",
      "o\n",
      "r\n",
      "l\n",
      "d\n"
     ]
    }
   ],
   "source": [
    "for i in 'Hello World':\n",
    "    print(i)"
   ]
  },
  {
   "cell_type": "markdown",
   "metadata": {},
   "source": [
    "본인의 이름을 입력받아 내 이름은 ㅇㅇㅇ입니다를 반환하는 함수를 만드시오"
   ]
  },
  {
   "cell_type": "code",
   "execution_count": 16,
   "metadata": {},
   "outputs": [],
   "source": [
    "def myname():\n",
    "    name = input('이름을 입력하시오.')\n",
    "    print(f'내 이름은 {name}입니다.')\n"
   ]
  },
  {
   "cell_type": "code",
   "execution_count": 17,
   "metadata": {},
   "outputs": [
    {
     "name": "stdin",
     "output_type": "stream",
     "text": [
      "이름을 입력하시오. 안세령\n"
     ]
    },
    {
     "name": "stdout",
     "output_type": "stream",
     "text": [
      "내 이름은 안세령입니다.\n"
     ]
    }
   ],
   "source": [
    "myname()"
   ]
  },
  {
   "cell_type": "markdown",
   "metadata": {},
   "source": [
    "두 숫자를 입력하면 더하기 빼기 곱하기 나누기를 순서대로 출력하는 함수를 만드시오"
   ]
  },
  {
   "cell_type": "code",
   "execution_count": 19,
   "metadata": {},
   "outputs": [
    {
     "name": "stdout",
     "output_type": "stream",
     "text": [
      "5\n",
      "-1\n",
      "6\n",
      "0.6666666666666666\n"
     ]
    }
   ],
   "source": [
    "def math_def(x,y):\n",
    "    print(x+y)\n",
    "    print(x-y)\n",
    "    print(x*y)\n",
    "    print(x/y)\n",
    "\n",
    "math_def(2,3)"
   ]
  },
  {
   "cell_type": "markdown",
   "metadata": {},
   "source": [
    "입력의 수를 모르는 상태에서 입력을 모두 더하여 반환하는 함수를 만드시오"
   ]
  },
  {
   "cell_type": "code",
   "execution_count": 25,
   "metadata": {},
   "outputs": [],
   "source": [
    "def plus_def(*num):\n",
    "    result=0\n",
    "    for i in num:\n",
    "        result +=i\n",
    "    return result"
   ]
  },
  {
   "cell_type": "code",
   "execution_count": 26,
   "metadata": {},
   "outputs": [
    {
     "data": {
      "text/plain": [
       "6"
      ]
     },
     "execution_count": 26,
     "metadata": {},
     "output_type": "execute_result"
    }
   ],
   "source": [
    "plus_def(1,2,3)"
   ]
  },
  {
   "cell_type": "markdown",
   "metadata": {},
   "source": [
    "2개의 리스트를 입력받을 때 두 리스트의 길이가 같은지 불 자료형으로 반환하시오"
   ]
  },
  {
   "cell_type": "code",
   "execution_count": 76,
   "metadata": {},
   "outputs": [
    {
     "data": {
      "text/plain": [
       "False"
      ]
     },
     "execution_count": 76,
     "metadata": {},
     "output_type": "execute_result"
    }
   ],
   "source": [
    "def list_length():\n",
    "    list1 = input('리스트1:')\n",
    "    list2 = input('리스트2:')\n",
    "    return list1,list2\n",
    "\n",
    "len(list1)==len(list2)\n"
   ]
  },
  {
   "cell_type": "code",
   "execution_count": 77,
   "metadata": {},
   "outputs": [
    {
     "name": "stdin",
     "output_type": "stream",
     "text": [
      "리스트1: [1,2,3]\n",
      "리스트2: [2,3,4]\n"
     ]
    },
    {
     "data": {
      "text/plain": [
       "('[1,2,3]', '[2,3,4]')"
      ]
     },
     "execution_count": 77,
     "metadata": {},
     "output_type": "execute_result"
    }
   ],
   "source": [
    "list_length()"
   ]
  },
  {
   "cell_type": "markdown",
   "metadata": {},
   "source": [
    "두개의 리스트를 입력받고 위에서 만든 함수를 이용해 두 리스트의 길이가 같다고 판별되면 두 리스트를 이용하여 딕셔너리를 만들어 반환하는 함수를 만드시오"
   ]
  },
  {
   "cell_type": "code",
   "execution_count": 78,
   "metadata": {},
   "outputs": [
    {
     "name": "stdin",
     "output_type": "stream",
     "text": [
      "리스트1: [1,2,3]\n",
      "리스트2: [2,3,4]\n"
     ]
    },
    {
     "name": "stdout",
     "output_type": "stream",
     "text": [
      "두 리스트의 길이가 다르다.\n"
     ]
    }
   ],
   "source": [
    "list_length()\n",
    "if len(list1)==len(list2):\n",
    "    for i in range(len(list1)):\n",
    "        dic[list1[i]]=list2[i]\n",
    "    print(dic)\n",
    "else:\n",
    "    print('두 리스트의 길이가 다르다.')\n",
    "    "
   ]
  },
  {
   "cell_type": "markdown",
   "metadata": {},
   "source": [
    "글로벌 변수를 이용하여 plus() 함수가 수행될 때마다 변수에 5가 더해지도록 함수를 정의하시오"
   ]
  },
  {
   "cell_type": "code",
   "execution_count": 81,
   "metadata": {},
   "outputs": [],
   "source": [
    "a=0\n",
    "def plus():\n",
    "    global a \n",
    "    a= a+5"
   ]
  },
  {
   "cell_type": "code",
   "execution_count": 82,
   "metadata": {},
   "outputs": [],
   "source": [
    "plus()"
   ]
  },
  {
   "cell_type": "code",
   "execution_count": 83,
   "metadata": {},
   "outputs": [
    {
     "data": {
      "text/plain": [
       "5"
      ]
     },
     "execution_count": 83,
     "metadata": {},
     "output_type": "execute_result"
    }
   ],
   "source": [
    "a"
   ]
  },
  {
   "cell_type": "code",
   "execution_count": null,
   "metadata": {},
   "outputs": [],
   "source": []
  }
 ],
 "metadata": {
  "kernelspec": {
   "display_name": "Python 3 (ipykernel)",
   "language": "python",
   "name": "python3"
  },
  "language_info": {
   "codemirror_mode": {
    "name": "ipython",
    "version": 3
   },
   "file_extension": ".py",
   "mimetype": "text/x-python",
   "name": "python",
   "nbconvert_exporter": "python",
   "pygments_lexer": "ipython3",
   "version": "3.11.7"
  }
 },
 "nbformat": 4,
 "nbformat_minor": 4
}

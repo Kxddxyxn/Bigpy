{
  "cells": [
    {
      "cell_type": "markdown",
      "metadata": {
        "id": "0XSk0VeGhll-"
      },
      "source": [
        "while문으로 Hello World를 10번 출력하시오.\n",
        "(조건문에는 숫자형 변수를 포함하시오)"
      ]
    },
    {
      "cell_type": "code",
      "execution_count": 3,
      "metadata": {
        "colab": {
          "base_uri": "https://localhost:8080/"
        },
        "id": "hwH_rtKghll_",
        "outputId": "f5d17295-615f-4478-a418-4b3d7dec19f1"
      },
      "outputs": [
        {
          "output_type": "stream",
          "name": "stdout",
          "text": [
            "Hello World\n",
            "Hello World\n",
            "Hello World\n",
            "Hello World\n",
            "Hello World\n",
            "Hello World\n",
            "Hello World\n",
            "Hello World\n",
            "Hello World\n",
            "Hello World\n"
          ]
        }
      ],
      "source": [
        "i = 0\n",
        "while i < 10:\n",
        "    print(\"Hello World\")\n",
        "    i += 1"
      ]
    },
    {
      "cell_type": "markdown",
      "metadata": {
        "id": "1HzMyHzphll_"
      },
      "source": [
        "input()함수로 입력값을 받아 조건이 맞을 시 Hello World를 5번 출력하시오"
      ]
    },
    {
      "cell_type": "code",
      "execution_count": 8,
      "metadata": {
        "colab": {
          "base_uri": "https://localhost:8080/"
        },
        "id": "4kPEJBjMhlmA",
        "outputId": "5078f701-9f60-417e-a88a-5ed652b01901"
      },
      "outputs": [
        {
          "output_type": "stream",
          "name": "stdout",
          "text": [
            "정수만 입력5\n",
            "Hello World\n",
            "Hello World\n",
            "Hello World\n",
            "Hello World\n",
            "Hello World\n"
          ]
        }
      ],
      "source": [
        "a = int(input(\"정수만 입력\"))\n",
        "\n",
        "if a>0:\n",
        "    c = 0\n",
        "    while c < 5:\n",
        "        print(\"Hello World\")\n",
        "        c +=1"
      ]
    },
    {
      "cell_type": "markdown",
      "metadata": {
        "id": "60Cywxy5hlmA"
      },
      "source": [
        "while True:로 시작하는 반복문을 Hello World 출력을 5번 반복 후 루프에서 빠져나가도록 작성하시오."
      ]
    },
    {
      "cell_type": "code",
      "execution_count": 9,
      "metadata": {
        "colab": {
          "base_uri": "https://localhost:8080/"
        },
        "id": "2dGJC0IZhlmA",
        "outputId": "54be04c5-cedf-4d94-80fb-11ced73315a2"
      },
      "outputs": [
        {
          "output_type": "stream",
          "name": "stdout",
          "text": [
            "Hello World\n",
            "Hello World\n",
            "Hello World\n",
            "Hello World\n",
            "Hello World\n"
          ]
        }
      ],
      "source": [
        "a = 0\n",
        "\n",
        "while True:\n",
        "    print(\"Hello World\")\n",
        "    a += 1\n",
        "    if a == 5:\n",
        "        break;"
      ]
    },
    {
      "cell_type": "markdown",
      "metadata": {
        "id": "rsMvqg7-hlmA"
      },
      "source": [
        "while 반복문을 사용하여 1부터 10까지 숫자를 출력할 때 짝수는 출력하지 않고 시작점으로 돌아가도록 작성하시오."
      ]
    },
    {
      "cell_type": "code",
      "execution_count": 11,
      "metadata": {
        "colab": {
          "base_uri": "https://localhost:8080/"
        },
        "id": "FxiTfjnEhlmA",
        "outputId": "c9f2f7c8-6163-4be6-dfff-7e1170bc477c"
      },
      "outputs": [
        {
          "output_type": "stream",
          "name": "stdout",
          "text": [
            "1\n",
            "3\n",
            "5\n",
            "7\n",
            "9\n"
          ]
        }
      ],
      "source": [
        "n = 1\n",
        "\n",
        "while n <= 10:\n",
        "    if n % 2 == 0:\n",
        "        n += 1\n",
        "        continue\n",
        "    print(n)\n",
        "    n += 1"
      ]
    },
    {
      "cell_type": "markdown",
      "metadata": {
        "id": "Iwm4eQRlhlmA"
      },
      "source": [
        "for 문을 이용하여 구구단 2단을 출력하시오"
      ]
    },
    {
      "cell_type": "code",
      "execution_count": 23,
      "metadata": {
        "colab": {
          "base_uri": "https://localhost:8080/"
        },
        "id": "KASr91ZWhlmB",
        "outputId": "9acfb27e-5ceb-48a2-ac41-15f95dc08082"
      },
      "outputs": [
        {
          "output_type": "stream",
          "name": "stdout",
          "text": [
            "2단 0\n",
            "2단 2\n",
            "2단 4\n",
            "2단 6\n",
            "2단 8\n",
            "2단 10\n",
            "2단 12\n",
            "2단 14\n",
            "2단 16\n",
            "2단 18\n"
          ]
        }
      ],
      "source": [
        "for i in range(0, 20, 2):\n",
        "    print(\"2단\",i)"
      ]
    },
    {
      "cell_type": "markdown",
      "metadata": {
        "id": "Fh_RwtzFhlmB"
      },
      "source": [
        "for 문을 이용하여 ['바나나', '사과', '수박']리스트의 요소를 순서대로 하나씩 출력하시오."
      ]
    },
    {
      "cell_type": "code",
      "execution_count": 24,
      "metadata": {
        "colab": {
          "base_uri": "https://localhost:8080/"
        },
        "id": "sMgx_QbthlmB",
        "outputId": "198e8faa-62d3-44a9-f8de-271c49e68bad"
      },
      "outputs": [
        {
          "output_type": "stream",
          "name": "stdout",
          "text": [
            "바나나\n",
            "사과\n",
            "수박\n"
          ]
        }
      ],
      "source": [
        "for i in ['바나나', '사과', '수박']:\n",
        "    print(i)"
      ]
    },
    {
      "cell_type": "markdown",
      "metadata": {
        "id": "AwwNTu6mhlmB"
      },
      "source": [
        "for문과 range 함수를 이용하여 -7에서 -3까지 출력하시오(range함수에는 음수가 들어가도록 하시오)"
      ]
    },
    {
      "cell_type": "code",
      "execution_count": 25,
      "metadata": {
        "colab": {
          "base_uri": "https://localhost:8080/"
        },
        "id": "0Tvq-VV5hlmB",
        "outputId": "146aec08-1618-44ea-ea8c-37286ac2fcf1"
      },
      "outputs": [
        {
          "output_type": "stream",
          "name": "stdout",
          "text": [
            "-7\n",
            "-6\n",
            "-5\n",
            "-4\n",
            "-3\n"
          ]
        }
      ],
      "source": [
        "for i in range(-7, -2):\n",
        "    print(i)"
      ]
    },
    {
      "cell_type": "markdown",
      "metadata": {
        "id": "VeYkB6u4hlmB"
      },
      "source": [
        "for문과 range만을 이용하여 2부터 10까지 짝수만 출력하시오(반복문 내에서 연산 수행 x)"
      ]
    },
    {
      "cell_type": "code",
      "execution_count": 26,
      "metadata": {
        "colab": {
          "base_uri": "https://localhost:8080/"
        },
        "id": "sxHDdM9ehlmB",
        "outputId": "feaaa9e0-c098-482d-9efd-1c35d5188e09"
      },
      "outputs": [
        {
          "output_type": "stream",
          "name": "stdout",
          "text": [
            "2\n",
            "4\n",
            "6\n",
            "8\n",
            "10\n"
          ]
        }
      ],
      "source": [
        "for i in range(2, 11, 2):\n",
        "    print(i)"
      ]
    },
    {
      "cell_type": "markdown",
      "metadata": {
        "id": "zyAZOWr-hlmB"
      },
      "source": [
        "for문을 이용하여 Hello world 문자열을 한 글자씩 출력하시오"
      ]
    },
    {
      "cell_type": "code",
      "execution_count": 27,
      "metadata": {
        "colab": {
          "base_uri": "https://localhost:8080/"
        },
        "id": "djxsBQc5hlmB",
        "outputId": "241b31b5-9eb1-44db-a5c8-912e9bdb82fd"
      },
      "outputs": [
        {
          "output_type": "stream",
          "name": "stdout",
          "text": [
            "H\n",
            "e\n",
            "l\n",
            "l\n",
            "o\n",
            " \n",
            "w\n",
            "o\n",
            "r\n",
            "l\n",
            "d\n"
          ]
        }
      ],
      "source": [
        "for i in \"Hello world\":\n",
        "    print(i)"
      ]
    },
    {
      "cell_type": "markdown",
      "metadata": {
        "id": "GMHYo2tQhlmB"
      },
      "source": [
        "본인의 이름을 입력받아 내 이름은 ㅇㅇㅇ입니다를 반환하는 함수를 만드시오"
      ]
    },
    {
      "cell_type": "code",
      "execution_count": 32,
      "metadata": {
        "colab": {
          "base_uri": "https://localhost:8080/"
        },
        "id": "cmFHihl1hlmC",
        "outputId": "7bdf1946-f461-40e6-b04a-caff45dd1634"
      },
      "outputs": [
        {
          "output_type": "stream",
          "name": "stdout",
          "text": [
            "이름을 입력하세요박우진\n",
            "내 이름은 박우진 입니다\n"
          ]
        }
      ],
      "source": [
        "a= input(\"이름을 입력하세요\")\n",
        "print(\"내 이름은\" ,a,\"입니다\")"
      ]
    },
    {
      "cell_type": "markdown",
      "metadata": {
        "id": "QhTiJZ7whlmC"
      },
      "source": [
        "두 숫자를 입력하면 더하기 빼기 곱하기 나누기를 순서대로 출력하는 함수를 만드시오"
      ]
    },
    {
      "cell_type": "code",
      "execution_count": 33,
      "metadata": {
        "colab": {
          "base_uri": "https://localhost:8080/"
        },
        "id": "FoLi9ZiIhlmC",
        "outputId": "c1a8c7fd-7e5d-4127-de22-ee464f30ac10"
      },
      "outputs": [
        {
          "output_type": "stream",
          "name": "stdout",
          "text": [
            "첫번째 숫자를 입력하세요5\n",
            "두번째 숫자를 입력하세요6\n",
            "11\n",
            "-1\n",
            "30\n",
            "0.8333333333333334\n"
          ]
        }
      ],
      "source": [
        "a=int(input(\"첫번째 숫자를 입력하세요\"))\n",
        "b=int(input(\"두번째 숫자를 입력하세요\"))\n",
        "print(a+b)\n",
        "print(a-b)\n",
        "print(a*b)\n",
        "print(a/b)"
      ]
    },
    {
      "cell_type": "markdown",
      "metadata": {
        "id": "UUz_6RkyhlmC"
      },
      "source": [
        "입력의 수를 모르는 상태에서 입력을 모두 더하여 반환하는 함수를 만드시오"
      ]
    },
    {
      "cell_type": "code",
      "execution_count": 45,
      "metadata": {
        "colab": {
          "base_uri": "https://localhost:8080/"
        },
        "id": "_TTKGluchlmC",
        "outputId": "995c3453-d3fe-4a88-aac9-2f2931770abe"
      },
      "outputs": [
        {
          "name": "stdout",
          "output_type": "stream",
          "text": [
            "숫자를 입력하세요 (종료하려면 0): 4\n",
            "숫자를 입력하세요 (종료하려면 0): 9\n",
            "숫자를 입력하세요 (종료하려면 0): 0\n"
          ]
        },
        {
          "output_type": "execute_result",
          "data": {
            "text/plain": [
              "13"
            ]
          },
          "metadata": {},
          "execution_count": 45
        }
      ],
      "source": [
        "def sum():\n",
        "    a = 0\n",
        "    while True:\n",
        "        b = int(input(\"숫자를 입력하세요 (종료하려면 0): \"))\n",
        "        a += b\n",
        "        if b == 0:\n",
        "            break;\n",
        "    return a\n",
        "sum()"
      ]
    },
    {
      "cell_type": "markdown",
      "metadata": {
        "id": "-72da0IfhlmC"
      },
      "source": [
        "2개의 리스트를 입력받을 때 두 리스트의 길이가 같은지 불 자료형으로 반환하시오"
      ]
    },
    {
      "cell_type": "code",
      "execution_count": 46,
      "metadata": {
        "colab": {
          "base_uri": "https://localhost:8080/"
        },
        "id": "-ImK6kwRhlmC",
        "outputId": "ff516952-0b7b-4d97-e6a4-ba0be533a5a6"
      },
      "outputs": [
        {
          "output_type": "stream",
          "name": "stdout",
          "text": [
            "첫 번째 리스트를 입력하세요 (공백으로 구분): 4 5 6\n",
            "두 번째 리스트를 입력하세요 (공백으로 구분): 7 8 9\n",
            "True\n"
          ]
        }
      ],
      "source": [
        "def vs(list1, list2):\n",
        "    return len(list1) == len(list2)\n",
        "\n",
        "list1 = input(\"첫 번째 리스트를 입력하세요 (공백으로 구분): \").split()\n",
        "list2 = input(\"두 번째 리스트를 입력하세요 (공백으로 구분): \").split()\n",
        "\n",
        "\n",
        "result = vs(list1, list2)\n",
        "print(result)"
      ]
    },
    {
      "cell_type": "markdown",
      "metadata": {
        "id": "QSh5W325hlmC"
      },
      "source": [
        "두개의 리스트를 입력받고 위에서 만든 함수를 이용해 두 리스트의 길이가 같다고 판별되면 두 리스트를 이용하여 딕셔너리를 만들어 반환하는 함수를 만드시오"
      ]
    },
    {
      "cell_type": "code",
      "execution_count": 53,
      "metadata": {
        "colab": {
          "base_uri": "https://localhost:8080/"
        },
        "id": "UO-l0IkPhlmC",
        "outputId": "3151a434-ae7e-4b4e-a899-fe12bb673ec9"
      },
      "outputs": [
        {
          "output_type": "stream",
          "name": "stdout",
          "text": [
            "첫 번째 리스트를 입력하세요 (공백으로 구분): 4 5 6\n",
            "두 번째 리스트를 입력하세요 (공백으로 구분): 7 8 9\n",
            "생성된 딕셔너리: {'4': '7', '5': '8', '6': '9'}\n"
          ]
        }
      ],
      "source": [
        "list3 = input(\"첫 번째 리스트를 입력하세요 (공백으로 구분): \").split()\n",
        "list4 = input(\"두 번째 리스트를 입력하세요 (공백으로 구분): \").split()\n",
        "\n",
        "if vs(list3, list4):\n",
        "   new = dict(zip(list3, list4))\n",
        "   print(\"생성된 딕셔너리:\", new)\n",
        "else:\n",
        "     print(\"두 리스트의 길이가 다릅니다\")"
      ]
    },
    {
      "cell_type": "markdown",
      "metadata": {
        "id": "zVH1n2ewhlmC"
      },
      "source": [
        "글로벌 변수를 이용하여 plus() 함수가 수행될 때마다 변수에 5가 더해지도록 함수를 정의하시오"
      ]
    },
    {
      "cell_type": "code",
      "execution_count": 51,
      "metadata": {
        "colab": {
          "base_uri": "https://localhost:8080/"
        },
        "id": "bEsiPRohhlmC",
        "outputId": "94a4dcbc-4382-4d34-ea58-054e8f1e4db3"
      },
      "outputs": [
        {
          "output_type": "stream",
          "name": "stdout",
          "text": [
            "5\n"
          ]
        },
        {
          "output_type": "execute_result",
          "data": {
            "text/plain": [
              "10"
            ]
          },
          "metadata": {},
          "execution_count": 51
        }
      ],
      "source": [
        "five = 0\n",
        "\n",
        "def plus():\n",
        "    global five\n",
        "    five += 5\n",
        "plus()\n",
        "print(five)\n",
        "plus()\n",
        "five"
      ]
    }
  ],
  "metadata": {
    "kernelspec": {
      "display_name": "base",
      "language": "python",
      "name": "python3"
    },
    "language_info": {
      "codemirror_mode": {
        "name": "ipython",
        "version": 3
      },
      "file_extension": ".py",
      "mimetype": "text/x-python",
      "name": "python",
      "nbconvert_exporter": "python",
      "pygments_lexer": "ipython3",
      "version": "3.12.4"
    },
    "colab": {
      "provenance": []
    }
  },
  "nbformat": 4,
  "nbformat_minor": 0
}
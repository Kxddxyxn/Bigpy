{
 "cells": [
  {
   "cell_type": "markdown",
   "id": "8220f65b-9325-4502-a53f-938eb3140382",
   "metadata": {},
   "source": [
    "# 02-4 튜플 자료형"
   ]
  },
  {
   "cell_type": "code",
   "execution_count": 6,
   "id": "259a70a5-bbe4-4455-8270-24d31fe66a9b",
   "metadata": {},
   "outputs": [],
   "source": [
    "t1 = ()\n",
    "t2 = (1,)\n",
    "t3 = (1, 2, 3)\n",
    "t4 = 1, 2, 3\n",
    "t5 = ('a', 'b', ('ab', 'cd'))"
   ]
  },
  {
   "cell_type": "code",
   "execution_count": 16,
   "id": "1f4028ee-28aa-4ae7-ad97-669dfa74157b",
   "metadata": {},
   "outputs": [
    {
     "name": "stdout",
     "output_type": "stream",
     "text": [
      "('ab', 'cd')\n",
      "cd\n"
     ]
    }
   ],
   "source": [
    "print(t5[2])  # 튜플 내의 () 도 하나의 요소로 취급. \n",
    "print(t5[2][1]) # 이렇게 하면 튜플 내의 () 안의 요소를 추출해낼 수 있다."
   ]
  },
  {
   "cell_type": "code",
   "execution_count": 20,
   "id": "8838db9a-8ddd-4b55-8967-ad400aff9b9a",
   "metadata": {},
   "outputs": [
    {
     "ename": "TypeError",
     "evalue": "'tuple' object doesn't support item deletion",
     "output_type": "error",
     "traceback": [
      "\u001b[1;31m---------------------------------------------------------------------------\u001b[0m",
      "\u001b[1;31mTypeError\u001b[0m                                 Traceback (most recent call last)",
      "Cell \u001b[1;32mIn[20], line 2\u001b[0m\n\u001b[0;32m      1\u001b[0m t1 \u001b[38;5;241m=\u001b[39m (\u001b[38;5;241m1\u001b[39m, \u001b[38;5;241m2\u001b[39m, \u001b[38;5;124m'\u001b[39m\u001b[38;5;124ma\u001b[39m\u001b[38;5;124m'\u001b[39m, \u001b[38;5;124m'\u001b[39m\u001b[38;5;124mb\u001b[39m\u001b[38;5;124m'\u001b[39m)\n\u001b[1;32m----> 2\u001b[0m \u001b[38;5;28;01mdel\u001b[39;00m t1[\u001b[38;5;241m0\u001b[39m]\n",
      "\u001b[1;31mTypeError\u001b[0m: 'tuple' object doesn't support item deletion"
     ]
    }
   ],
   "source": [
    "t1 = (1, 2, 'a', 'b')\n",
    "del t1[0]  # 튜플은 튜플내의 요소 수정 및 삭제가 안된다. "
   ]
  },
  {
   "cell_type": "code",
   "execution_count": 28,
   "id": "b06eb6b7-f049-459c-9b4e-a14ba2093a12",
   "metadata": {},
   "outputs": [
    {
     "name": "stdout",
     "output_type": "stream",
     "text": [
      "b\n"
     ]
    }
   ],
   "source": [
    "# 인덱싱\n",
    "print(t5[1])"
   ]
  },
  {
   "cell_type": "code",
   "execution_count": 34,
   "id": "e3876b8e-e122-4415-b242-999437af9bc6",
   "metadata": {},
   "outputs": [
    {
     "data": {
      "text/plain": [
       "(2, 'a', 'b')"
      ]
     },
     "execution_count": 34,
     "metadata": {},
     "output_type": "execute_result"
    }
   ],
   "source": [
    "t1 = (1,2, 'a', 'b')\n",
    "t1[1:] # t1[1] 부터 끝까지 출력"
   ]
  },
  {
   "cell_type": "code",
   "execution_count": 44,
   "id": "8a4f4108-4c2d-46a1-989a-a181ac34d76b",
   "metadata": {},
   "outputs": [
    {
     "name": "stdout",
     "output_type": "stream",
     "text": [
      "(1, 2, 3)\n",
      "('a', 'b', ('ab', 'cd'))\n",
      "(1, 2, 3, 'a', 'b', ('ab', 'cd'))\n"
     ]
    }
   ],
   "source": [
    "# 튜플 더하기\n",
    "print(t3)\n",
    "print(t5)\n",
    "\n",
    "t6= t3+t5\n",
    "print(t6)"
   ]
  },
  {
   "cell_type": "code",
   "execution_count": 48,
   "id": "2193e3ed-2956-42ff-8c86-9d337dd5db51",
   "metadata": {},
   "outputs": [
    {
     "name": "stdout",
     "output_type": "stream",
     "text": [
      "(1, 2, 3)\n",
      "(1, 2, 3, 1, 2, 3, 1, 2, 3, 1, 2, 3)\n"
     ]
    }
   ],
   "source": [
    "# 튜플 곱하기 \n",
    "print(t3)\n",
    "print(t3*4)"
   ]
  },
  {
   "cell_type": "code",
   "execution_count": 56,
   "id": "3dba8113-f4d1-469a-84e9-0a05fda050cd",
   "metadata": {},
   "outputs": [
    {
     "name": "stdout",
     "output_type": "stream",
     "text": [
      "(1, 2, 3, 'a', 'b', ('ab', 'cd'))\n",
      "6\n"
     ]
    }
   ],
   "source": [
    "print(t6)\n",
    "print(len(t6))"
   ]
  },
  {
   "cell_type": "markdown",
   "id": "9f20e6df-6f50-4f93-a238-4e4af4387b20",
   "metadata": {},
   "source": [
    "# 02-5 딕셔너리 자료형"
   ]
  },
  {
   "cell_type": "code",
   "execution_count": 67,
   "id": "d9cd16da-40ca-4f53-95db-fc2492c61f31",
   "metadata": {},
   "outputs": [],
   "source": [
    "# 딕셔너리는 단어 그대로 ‘사전’이라는 뜻이다. \n",
    "# 즉 \"people\"이라는 단어에 \"사람\", \"baseball\"이라는 단어에 \"야구\"라는 뜻이 부합되듯이\n",
    "# 딕셔너리는 Key와 Value를 한 쌍으로 가지는 자료형이다. \n",
    "# 예컨대 Key가 \"baseball\"이라면 Value는 \"야구\"가 될 것이다."
   ]
  },
  {
   "cell_type": "code",
   "execution_count": 77,
   "id": "c9f09b66-edff-4d1b-8a6e-120d87fe6227",
   "metadata": {},
   "outputs": [],
   "source": [
    "# 딕셔너리의 기본 형태\n",
    "a= {'Key1': 'Value1', 'Key2': 'Value2', 'Key3': 'Value3'}"
   ]
  },
  {
   "cell_type": "code",
   "execution_count": 85,
   "id": "5cd995b8-1315-435a-a8bd-238218e9715c",
   "metadata": {},
   "outputs": [
    {
     "data": {
      "text/plain": [
       "'Value1'"
      ]
     },
     "execution_count": 85,
     "metadata": {},
     "output_type": "execute_result"
    }
   ],
   "source": [
    "a['Key1']\n"
   ]
  },
  {
   "cell_type": "code",
   "execution_count": 87,
   "id": "6dde7dc8-f6c1-4f76-86fe-a8cadf2b2289",
   "metadata": {},
   "outputs": [],
   "source": [
    "# 추가로 value 엔 리스트 형태도 들어가지만, key 에는 리스트가 들어가지 않는다."
   ]
  },
  {
   "cell_type": "code",
   "execution_count": 103,
   "id": "aa4c02dc-43cf-450f-8b12-7fcd4f2697aa",
   "metadata": {},
   "outputs": [
    {
     "name": "stdout",
     "output_type": "stream",
     "text": [
      "{1: 'a', 2: 'b'}\n"
     ]
    }
   ],
   "source": [
    "# 딕셔너리 쌍 추가 \n",
    "a= {1:'a'}\n",
    "a[2] = 'b'\n",
    "print(a)"
   ]
  },
  {
   "cell_type": "code",
   "execution_count": 105,
   "id": "f13c0a5d-1b05-432d-a347-c7f59b9b029f",
   "metadata": {},
   "outputs": [
    {
     "data": {
      "text/plain": [
       "{2: 'b'}"
      ]
     },
     "execution_count": 105,
     "metadata": {},
     "output_type": "execute_result"
    }
   ],
   "source": [
    "#딕셔너리 요소 삭제 \n",
    "del a[1] \n",
    "a  # key = 1 에 해당하는 key 와 value가 삭제된다."
   ]
  },
  {
   "cell_type": "code",
   "execution_count": 124,
   "id": "15e1e297-ed56-4070-bcab-aea25365c4e9",
   "metadata": {},
   "outputs": [
    {
     "name": "stdout",
     "output_type": "stream",
     "text": [
      "pey\n",
      "010-9999-1234\n",
      "1118\n"
     ]
    }
   ],
   "source": [
    "dic = {'name':'pey', 'phone':'010-9999-1234', 'birth': '1118'}\n",
    "print(dic['name'])\n",
    "print(dic['phone'])\n",
    "print(dic['birth'])"
   ]
  },
  {
   "cell_type": "code",
   "execution_count": 128,
   "id": "d2282998-542b-4bd8-baed-4239b1af8d79",
   "metadata": {},
   "outputs": [
    {
     "name": "stdout",
     "output_type": "stream",
     "text": [
      "name\n",
      "phone\n",
      "birth\n"
     ]
    }
   ],
   "source": [
    "for k in dic.keys():\n",
    "     print(k)"
   ]
  },
  {
   "cell_type": "code",
   "execution_count": 132,
   "id": "0ce5b463-7fec-4131-9b34-eb2786a433dd",
   "metadata": {},
   "outputs": [
    {
     "data": {
      "text/plain": [
       "dict_items([('name', 'pey'), ('phone', '010-9999-1234'), ('birth', '1118')])"
      ]
     },
     "execution_count": 132,
     "metadata": {},
     "output_type": "execute_result"
    }
   ],
   "source": [
    "dic.items() # 쌍으로 묶은 값을 튜플로 리턴"
   ]
  },
  {
   "cell_type": "code",
   "execution_count": 154,
   "id": "bab8be92-955a-4172-80c0-5e7ad6f0bf2e",
   "metadata": {},
   "outputs": [
    {
     "data": {
      "text/plain": [
       "'pey'"
      ]
     },
     "execution_count": 154,
     "metadata": {},
     "output_type": "execute_result"
    }
   ],
   "source": [
    "dic.get('name') # key='name'에 해당하는 value 리턴"
   ]
  },
  {
   "cell_type": "markdown",
   "id": "057c4b99-64c7-4c35-a56e-a327957f8482",
   "metadata": {},
   "source": [
    "# 02-6 집합 자료형"
   ]
  },
  {
   "cell_type": "code",
   "execution_count": 140,
   "id": "a3c406d1-7d6d-40ad-b7db-d20432a575d4",
   "metadata": {},
   "outputs": [
    {
     "data": {
      "text/plain": [
       "{1, 2, 3}"
      ]
     },
     "execution_count": 140,
     "metadata": {},
     "output_type": "execute_result"
    }
   ],
   "source": [
    "s1= set([1,2,3])\n",
    "s1"
   ]
  },
  {
   "cell_type": "code",
   "execution_count": 148,
   "id": "c66dbf37-8d51-40ec-a29c-9b39fc25c2d4",
   "metadata": {},
   "outputs": [
    {
     "name": "stdout",
     "output_type": "stream",
     "text": [
      "{4, 5, 6}\n",
      "{1, 2, 3, 4, 5, 6, 7, 8, 9}\n",
      "{1, 2, 3}\n",
      "{4, 5, 6}\n",
      "{1, 2, 3, 4, 5, 6, 7, 8, 9}\n"
     ]
    }
   ],
   "source": [
    "s1 = set([1, 2, 3, 4, 5, 6])\n",
    "s2 = set([4, 5, 6, 7, 8, 9])\n",
    "print(s1 & s2)       #교집합\n",
    "print(s1 | s2)       #합집합\n",
    "print(s1-s2)         #차집합\n",
    "print(s1.intersection(s2)) # 교집합\n",
    "print(s2.union(s1))        # 합집합\n"
   ]
  },
  {
   "cell_type": "code",
   "execution_count": 152,
   "id": "aabf5379-c19f-4de0-8725-bf64b5223fb5",
   "metadata": {},
   "outputs": [
    {
     "data": {
      "text/plain": [
       "{1, 2, 3, 4}"
      ]
     },
     "execution_count": 152,
     "metadata": {},
     "output_type": "execute_result"
    }
   ],
   "source": [
    "s1 = set([1, 2, 3])\n",
    "s1.add(4)\n",
    "s1"
   ]
  },
  {
   "cell_type": "code",
   "execution_count": null,
   "id": "63aafd32-6f94-4af9-aa02-8156163a17dc",
   "metadata": {},
   "outputs": [],
   "source": []
  }
 ],
 "metadata": {
  "kernelspec": {
   "display_name": "Python 3 (ipykernel)",
   "language": "python",
   "name": "python3"
  },
  "language_info": {
   "codemirror_mode": {
    "name": "ipython",
    "version": 3
   },
   "file_extension": ".py",
   "mimetype": "text/x-python",
   "name": "python",
   "nbconvert_exporter": "python",
   "pygments_lexer": "ipython3",
   "version": "3.12.4"
  }
 },
 "nbformat": 4,
 "nbformat_minor": 5
}
